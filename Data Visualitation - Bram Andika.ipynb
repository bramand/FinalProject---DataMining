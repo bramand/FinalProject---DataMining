{
 "cells": [
  {
   "cell_type": "markdown",
   "id": "a8bfceea",
   "metadata": {},
   "source": [
    "# Data visualitation (titanic dataset)"
   ]
  },
  {
   "cell_type": "markdown",
   "id": "3a7ee422",
   "metadata": {},
   "source": [
    "import all library that are going to be used"
   ]
  },
  {
   "cell_type": "code",
   "execution_count": 1,
   "id": "c4695e85",
   "metadata": {},
   "outputs": [],
   "source": [
    "import pandas as pd\n",
    "import numpy as np\n",
    "import matplotlib.pyplot as plt\n",
    "import seaborn as sns\n",
    "import plotly.express as px"
   ]
  },
  {
   "cell_type": "markdown",
   "id": "60e66801",
   "metadata": {},
   "source": [
    "import titanic dataset that has already cleaned, and try to display sample data"
   ]
  },
  {
   "cell_type": "code",
   "execution_count": 2,
   "id": "0400779e",
   "metadata": {},
   "outputs": [
    {
     "data": {
      "text/html": [
       "<div>\n",
       "<style scoped>\n",
       "    .dataframe tbody tr th:only-of-type {\n",
       "        vertical-align: middle;\n",
       "    }\n",
       "\n",
       "    .dataframe tbody tr th {\n",
       "        vertical-align: top;\n",
       "    }\n",
       "\n",
       "    .dataframe thead th {\n",
       "        text-align: right;\n",
       "    }\n",
       "</style>\n",
       "<table border=\"1\" class=\"dataframe\">\n",
       "  <thead>\n",
       "    <tr style=\"text-align: right;\">\n",
       "      <th></th>\n",
       "      <th>Unnamed: 0</th>\n",
       "      <th>PassengerId</th>\n",
       "      <th>Survived</th>\n",
       "      <th>Pclass</th>\n",
       "      <th>Name</th>\n",
       "      <th>Sex</th>\n",
       "      <th>Age</th>\n",
       "      <th>SibSp</th>\n",
       "      <th>Parch</th>\n",
       "      <th>Ticket</th>\n",
       "      <th>Fare</th>\n",
       "      <th>Embarked</th>\n",
       "      <th>ship</th>\n",
       "    </tr>\n",
       "  </thead>\n",
       "  <tbody>\n",
       "    <tr>\n",
       "      <th>0</th>\n",
       "      <td>0</td>\n",
       "      <td>1</td>\n",
       "      <td>0</td>\n",
       "      <td>3.0</td>\n",
       "      <td>Braund, Mr. Owen Harris</td>\n",
       "      <td>male</td>\n",
       "      <td>22.0</td>\n",
       "      <td>1</td>\n",
       "      <td>0.0</td>\n",
       "      <td>A/5 21171</td>\n",
       "      <td>7.2500</td>\n",
       "      <td>S</td>\n",
       "      <td>Titanic</td>\n",
       "    </tr>\n",
       "    <tr>\n",
       "      <th>1</th>\n",
       "      <td>1</td>\n",
       "      <td>2</td>\n",
       "      <td>1</td>\n",
       "      <td>1.0</td>\n",
       "      <td>Cumings, Mrs. John Bradley (Florence Briggs Th...</td>\n",
       "      <td>female</td>\n",
       "      <td>38.0</td>\n",
       "      <td>1</td>\n",
       "      <td>0.0</td>\n",
       "      <td>PC 17599</td>\n",
       "      <td>71.2833</td>\n",
       "      <td>C</td>\n",
       "      <td>Titanic</td>\n",
       "    </tr>\n",
       "    <tr>\n",
       "      <th>2</th>\n",
       "      <td>2</td>\n",
       "      <td>3</td>\n",
       "      <td>1</td>\n",
       "      <td>3.0</td>\n",
       "      <td>Heikkinen, Miss. Laina</td>\n",
       "      <td>female</td>\n",
       "      <td>26.0</td>\n",
       "      <td>0</td>\n",
       "      <td>0.0</td>\n",
       "      <td>STON/O2. 3101282</td>\n",
       "      <td>7.9250</td>\n",
       "      <td>S</td>\n",
       "      <td>Titanic</td>\n",
       "    </tr>\n",
       "    <tr>\n",
       "      <th>3</th>\n",
       "      <td>3</td>\n",
       "      <td>4</td>\n",
       "      <td>1</td>\n",
       "      <td>1.0</td>\n",
       "      <td>Futrelle, Mrs. Jacques Heath (Lily May Peel)</td>\n",
       "      <td>female</td>\n",
       "      <td>35.0</td>\n",
       "      <td>1</td>\n",
       "      <td>0.0</td>\n",
       "      <td>113803</td>\n",
       "      <td>53.1000</td>\n",
       "      <td>S</td>\n",
       "      <td>Titanic</td>\n",
       "    </tr>\n",
       "    <tr>\n",
       "      <th>4</th>\n",
       "      <td>4</td>\n",
       "      <td>5</td>\n",
       "      <td>0</td>\n",
       "      <td>3.0</td>\n",
       "      <td>Allen, Mr. William Henry</td>\n",
       "      <td>male</td>\n",
       "      <td>35.0</td>\n",
       "      <td>0</td>\n",
       "      <td>0.0</td>\n",
       "      <td>373450</td>\n",
       "      <td>8.0500</td>\n",
       "      <td>S</td>\n",
       "      <td>Titanic</td>\n",
       "    </tr>\n",
       "  </tbody>\n",
       "</table>\n",
       "</div>"
      ],
      "text/plain": [
       "   Unnamed: 0  PassengerId  Survived  Pclass  \\\n",
       "0           0            1         0     3.0   \n",
       "1           1            2         1     1.0   \n",
       "2           2            3         1     3.0   \n",
       "3           3            4         1     1.0   \n",
       "4           4            5         0     3.0   \n",
       "\n",
       "                                                Name     Sex   Age  SibSp  \\\n",
       "0                            Braund, Mr. Owen Harris    male  22.0      1   \n",
       "1  Cumings, Mrs. John Bradley (Florence Briggs Th...  female  38.0      1   \n",
       "2                             Heikkinen, Miss. Laina  female  26.0      0   \n",
       "3       Futrelle, Mrs. Jacques Heath (Lily May Peel)  female  35.0      1   \n",
       "4                           Allen, Mr. William Henry    male  35.0      0   \n",
       "\n",
       "   Parch            Ticket     Fare Embarked     ship  \n",
       "0    0.0         A/5 21171   7.2500        S  Titanic  \n",
       "1    0.0          PC 17599  71.2833        C  Titanic  \n",
       "2    0.0  STON/O2. 3101282   7.9250        S  Titanic  \n",
       "3    0.0            113803  53.1000        S  Titanic  \n",
       "4    0.0            373450   8.0500        S  Titanic  "
      ]
     },
     "execution_count": 2,
     "metadata": {},
     "output_type": "execute_result"
    }
   ],
   "source": [
    "data = pd.read_csv(\"titanic_clean.csv\", sep=',')\n",
    "data.head()"
   ]
  },
  {
   "cell_type": "markdown",
   "id": "19b669a1",
   "metadata": {},
   "source": [
    "check data info to check if the data is in correct types"
   ]
  },
  {
   "cell_type": "code",
   "execution_count": 3,
   "id": "3fc4c2f8",
   "metadata": {},
   "outputs": [
    {
     "name": "stdout",
     "output_type": "stream",
     "text": [
      "<class 'pandas.core.frame.DataFrame'>\n",
      "RangeIndex: 894 entries, 0 to 893\n",
      "Data columns (total 13 columns):\n",
      " #   Column       Non-Null Count  Dtype  \n",
      "---  ------       --------------  -----  \n",
      " 0   Unnamed: 0   894 non-null    int64  \n",
      " 1   PassengerId  894 non-null    int64  \n",
      " 2   Survived     894 non-null    int64  \n",
      " 3   Pclass       894 non-null    float64\n",
      " 4   Name         894 non-null    object \n",
      " 5   Sex          894 non-null    object \n",
      " 6   Age          894 non-null    float64\n",
      " 7   SibSp        894 non-null    int64  \n",
      " 8   Parch        894 non-null    float64\n",
      " 9   Ticket       894 non-null    object \n",
      " 10  Fare         894 non-null    float64\n",
      " 11  Embarked     894 non-null    object \n",
      " 12  ship         894 non-null    object \n",
      "dtypes: float64(4), int64(4), object(5)\n",
      "memory usage: 90.9+ KB\n"
     ]
    }
   ],
   "source": [
    "data.info()"
   ]
  },
  {
   "cell_type": "markdown",
   "id": "6c4e6c4f",
   "metadata": {},
   "source": [
    "We will try to see describe data"
   ]
  },
  {
   "cell_type": "code",
   "execution_count": 4,
   "id": "73c95f73",
   "metadata": {},
   "outputs": [
    {
     "data": {
      "text/html": [
       "<div>\n",
       "<style scoped>\n",
       "    .dataframe tbody tr th:only-of-type {\n",
       "        vertical-align: middle;\n",
       "    }\n",
       "\n",
       "    .dataframe tbody tr th {\n",
       "        vertical-align: top;\n",
       "    }\n",
       "\n",
       "    .dataframe thead th {\n",
       "        text-align: right;\n",
       "    }\n",
       "</style>\n",
       "<table border=\"1\" class=\"dataframe\">\n",
       "  <thead>\n",
       "    <tr style=\"text-align: right;\">\n",
       "      <th></th>\n",
       "      <th>Unnamed: 0</th>\n",
       "      <th>PassengerId</th>\n",
       "      <th>Survived</th>\n",
       "      <th>Pclass</th>\n",
       "      <th>Age</th>\n",
       "      <th>SibSp</th>\n",
       "      <th>Parch</th>\n",
       "      <th>Fare</th>\n",
       "    </tr>\n",
       "  </thead>\n",
       "  <tbody>\n",
       "    <tr>\n",
       "      <th>count</th>\n",
       "      <td>894.000000</td>\n",
       "      <td>894.000000</td>\n",
       "      <td>894.000000</td>\n",
       "      <td>894.000000</td>\n",
       "      <td>894.000000</td>\n",
       "      <td>894.000000</td>\n",
       "      <td>894.000000</td>\n",
       "      <td>894.000000</td>\n",
       "    </tr>\n",
       "    <tr>\n",
       "      <th>mean</th>\n",
       "      <td>446.500000</td>\n",
       "      <td>446.030201</td>\n",
       "      <td>0.385906</td>\n",
       "      <td>2.309843</td>\n",
       "      <td>29.495526</td>\n",
       "      <td>0.463087</td>\n",
       "      <td>0.371781</td>\n",
       "      <td>32.750723</td>\n",
       "    </tr>\n",
       "    <tr>\n",
       "      <th>std</th>\n",
       "      <td>258.219868</td>\n",
       "      <td>259.208003</td>\n",
       "      <td>0.487081</td>\n",
       "      <td>0.835370</td>\n",
       "      <td>12.829530</td>\n",
       "      <td>0.879200</td>\n",
       "      <td>0.767895</td>\n",
       "      <td>49.466207</td>\n",
       "    </tr>\n",
       "    <tr>\n",
       "      <th>min</th>\n",
       "      <td>0.000000</td>\n",
       "      <td>-12.000000</td>\n",
       "      <td>0.000000</td>\n",
       "      <td>1.000000</td>\n",
       "      <td>1.000000</td>\n",
       "      <td>0.000000</td>\n",
       "      <td>0.000000</td>\n",
       "      <td>4.012500</td>\n",
       "    </tr>\n",
       "    <tr>\n",
       "      <th>25%</th>\n",
       "      <td>223.250000</td>\n",
       "      <td>223.250000</td>\n",
       "      <td>0.000000</td>\n",
       "      <td>2.000000</td>\n",
       "      <td>22.000000</td>\n",
       "      <td>0.000000</td>\n",
       "      <td>0.000000</td>\n",
       "      <td>7.925000</td>\n",
       "    </tr>\n",
       "    <tr>\n",
       "      <th>50%</th>\n",
       "      <td>446.500000</td>\n",
       "      <td>444.500000</td>\n",
       "      <td>0.000000</td>\n",
       "      <td>3.000000</td>\n",
       "      <td>28.000000</td>\n",
       "      <td>0.000000</td>\n",
       "      <td>0.000000</td>\n",
       "      <td>15.245800</td>\n",
       "    </tr>\n",
       "    <tr>\n",
       "      <th>75%</th>\n",
       "      <td>669.750000</td>\n",
       "      <td>668.750000</td>\n",
       "      <td>1.000000</td>\n",
       "      <td>3.000000</td>\n",
       "      <td>35.000000</td>\n",
       "      <td>1.000000</td>\n",
       "      <td>0.000000</td>\n",
       "      <td>32.075985</td>\n",
       "    </tr>\n",
       "    <tr>\n",
       "      <th>max</th>\n",
       "      <td>893.000000</td>\n",
       "      <td>1143.000000</td>\n",
       "      <td>1.000000</td>\n",
       "      <td>3.000000</td>\n",
       "      <td>80.000000</td>\n",
       "      <td>5.000000</td>\n",
       "      <td>5.000000</td>\n",
       "      <td>512.329200</td>\n",
       "    </tr>\n",
       "  </tbody>\n",
       "</table>\n",
       "</div>"
      ],
      "text/plain": [
       "       Unnamed: 0  PassengerId    Survived      Pclass         Age  \\\n",
       "count  894.000000   894.000000  894.000000  894.000000  894.000000   \n",
       "mean   446.500000   446.030201    0.385906    2.309843   29.495526   \n",
       "std    258.219868   259.208003    0.487081    0.835370   12.829530   \n",
       "min      0.000000   -12.000000    0.000000    1.000000    1.000000   \n",
       "25%    223.250000   223.250000    0.000000    2.000000   22.000000   \n",
       "50%    446.500000   444.500000    0.000000    3.000000   28.000000   \n",
       "75%    669.750000   668.750000    1.000000    3.000000   35.000000   \n",
       "max    893.000000  1143.000000    1.000000    3.000000   80.000000   \n",
       "\n",
       "            SibSp       Parch        Fare  \n",
       "count  894.000000  894.000000  894.000000  \n",
       "mean     0.463087    0.371781   32.750723  \n",
       "std      0.879200    0.767895   49.466207  \n",
       "min      0.000000    0.000000    4.012500  \n",
       "25%      0.000000    0.000000    7.925000  \n",
       "50%      0.000000    0.000000   15.245800  \n",
       "75%      1.000000    0.000000   32.075985  \n",
       "max      5.000000    5.000000  512.329200  "
      ]
     },
     "execution_count": 4,
     "metadata": {},
     "output_type": "execute_result"
    }
   ],
   "source": [
    "data.describe()"
   ]
  },
  {
   "cell_type": "markdown",
   "id": "1743f504",
   "metadata": {},
   "source": [
    "### PClass"
   ]
  },
  {
   "cell_type": "markdown",
   "id": "6bf2a6ff",
   "metadata": {},
   "source": [
    "#### Check most popular class by passengers"
   ]
  },
  {
   "cell_type": "code",
   "execution_count": 5,
   "id": "e387260d",
   "metadata": {},
   "outputs": [
    {
     "data": {
      "text/plain": [
       "<AxesSubplot:ylabel='PassengerId'>"
      ]
     },
     "execution_count": 5,
     "metadata": {},
     "output_type": "execute_result"
    },
    {
     "data": {
      "image/png": "[encoded data removed]",
      "text/plain": [
       "<Figure size 640x480 with 1 Axes>"
      ]
     },
     "metadata": {},
     "output_type": "display_data"
    }
   ],
   "source": [
    "data.groupby(['Pclass']).sum().plot(kind='pie', y='PassengerId', autopct='%1.0f%%')"
   ]
  },
  {
   "cell_type": "markdown",
   "id": "1460789f",
   "metadata": {},
   "source": [
    "We can see from pie chart above that most passengers were on the third class that around 54%. After that there is 25% for passengers in the first class and 21% in second class."
   ]
  },
  {
   "cell_type": "markdown",
   "id": "2b0b4557",
   "metadata": {},
   "source": [
    "### Survived"
   ]
  },
  {
   "cell_type": "markdown",
   "id": "af070603",
   "metadata": {},
   "source": [
    "#### Check survival column"
   ]
  },
  {
   "cell_type": "code",
   "execution_count": 6,
   "id": "766ac328",
   "metadata": {},
   "outputs": [
    {
     "data": {
      "text/plain": [
       "<AxesSubplot:ylabel='PassengerId'>"
      ]
     },
     "execution_count": 6,
     "metadata": {},
     "output_type": "execute_result"
    },
    {
     "data": {
      "image/png": "[encoded data removed]",
      "text/plain": [
       "<Figure size 640x480 with 1 Axes>"
      ]
     },
     "metadata": {},
     "output_type": "display_data"
    }
   ],
   "source": [
    "data.groupby(['Survived']).sum().plot(kind='pie', y='PassengerId', autopct='%1.0f%%')"
   ]
  },
  {
   "cell_type": "code",
   "execution_count": 7,
   "id": "c31ccbf1",
   "metadata": {},
   "outputs": [
    {
     "data": {
      "text/plain": [
       "<AxesSubplot:xlabel='Survived', ylabel='count'>"
      ]
     },
     "execution_count": 7,
     "metadata": {},
     "output_type": "execute_result"
    },
    {
     "data": {
      "image/png": "[encoded data removed]",
      "text/plain": [
       "<Figure size 640x480 with 1 Axes>"
      ]
     },
     "metadata": {},
     "output_type": "display_data"
    }
   ],
   "source": [
    "sns.countplot(x='Survived',data=data)"
   ]
  },
  {
   "cell_type": "markdown",
   "id": "813dc8fa",
   "metadata": {},
   "source": [
    "From graphics above, there are only 38% that are survived from the tragedy and 62% are not survived."
   ]
  },
  {
   "cell_type": "markdown",
   "id": "26c9c760",
   "metadata": {},
   "source": [
    "### Survived based on gender"
   ]
  },
  {
   "cell_type": "markdown",
   "id": "4480026c",
   "metadata": {},
   "source": [
    "#### Check survived passengers based on genders\n"
   ]
  },
  {
   "cell_type": "code",
   "execution_count": 8,
   "id": "b0191f3d",
   "metadata": {},
   "outputs": [
    {
     "data": {
      "text/plain": [
       "<AxesSubplot:xlabel='Survived', ylabel='count'>"
      ]
     },
     "execution_count": 8,
     "metadata": {},
     "output_type": "execute_result"
    },
    {
     "data": {
      "image/png": "[encoded data removed]",
      "text/plain": [
       "<Figure size 640x480 with 1 Axes>"
      ]
     },
     "metadata": {},
     "output_type": "display_data"
    }
   ],
   "source": [
    "sns.countplot(data=data, x =\"Survived\", hue=\"Sex\")"
   ]
  },
  {
   "cell_type": "markdown",
   "id": "2dee139a",
   "metadata": {},
   "source": [
    "Based on graphics above, the gender that are the most not survived are men, almost 500 pessagengers. On other hands, the survived passengers were mostly the women.\n"
   ]
  },
  {
   "cell_type": "markdown",
   "id": "9cc2dd37",
   "metadata": {},
   "source": [
    "### Survived based on Pclass "
   ]
  },
  {
   "cell_type": "markdown",
   "id": "8b116f75",
   "metadata": {},
   "source": [
    "#### Check survived passengers based on the passengers class"
   ]
  },
  {
   "cell_type": "code",
   "execution_count": 9,
   "id": "9a419799",
   "metadata": {},
   "outputs": [
    {
     "data": {
      "text/plain": [
       "<AxesSubplot:xlabel='Survived', ylabel='count'>"
      ]
     },
     "execution_count": 9,
     "metadata": {},
     "output_type": "execute_result"
    },
    {
     "data": {
      "image/png": "[encoded data removed]",
      "text/plain": [
       "<Figure size 640x480 with 1 Axes>"
      ]
     },
     "metadata": {},
     "output_type": "display_data"
    }
   ],
   "source": [
    "sns.countplot(data=data, x =\"Survived\", hue=\"Pclass\")"
   ]
  },
  {
   "cell_type": "markdown",
   "id": "beb5034c",
   "metadata": {},
   "source": [
    "Based on graphic, we can see that most passengers that did not survived were from third class(green color), it was more than 350 passengers. Therefore, the most survived passengers are from first class."
   ]
  },
  {
   "cell_type": "markdown",
   "id": "e43bf0cd",
   "metadata": {},
   "source": [
    "## Age"
   ]
  },
  {
   "cell_type": "markdown",
   "id": "1c4f7dbd",
   "metadata": {},
   "source": [
    "#### Check age range of the passengers"
   ]
  },
  {
   "cell_type": "code",
   "execution_count": 10,
   "id": "bd1d4b61",
   "metadata": {},
   "outputs": [
    {
     "data": {
      "text/plain": [
       "<AxesSubplot:ylabel='Frequency'>"
      ]
     },
     "execution_count": 10,
     "metadata": {},
     "output_type": "execute_result"
    },
    {
     "data": {
      "image/png": "[encoded data removed]",
      "text/plain": [
       "<Figure size 640x480 with 1 Axes>"
      ]
     },
     "metadata": {},
     "output_type": "display_data"
    }
   ],
   "source": [
    "data['Age'].plot.hist(bins=25)"
   ]
  },
  {
   "cell_type": "markdown",
   "id": "3fc5ccde",
   "metadata": {},
   "source": [
    "Based on the graphics, it seems the age range of the most passengers on titanic were 28-30 years."
   ]
  },
  {
   "cell_type": "markdown",
   "id": "db5f89f0",
   "metadata": {},
   "source": [
    "#### Check range of age based on the passengers class"
   ]
  },
  {
   "cell_type": "code",
   "execution_count": 11,
   "id": "20ad7776",
   "metadata": {},
   "outputs": [
    {
     "data": {
      "text/plain": [
       "<AxesSubplot:xlabel='Pclass', ylabel='Age'>"
      ]
     },
     "execution_count": 11,
     "metadata": {},
     "output_type": "execute_result"
    },
    {
     "data": {
      "image/png": "[encoded data removed]",
      "text/plain": [
       "<Figure size 640x480 with 1 Axes>"
      ]
     },
     "metadata": {},
     "output_type": "display_data"
    }
   ],
   "source": [
    "sns.barplot(data=data, x=\"Pclass\", y=\"Age\")"
   ]
  },
  {
   "cell_type": "markdown",
   "id": "5062a1e8",
   "metadata": {},
   "source": [
    "Based on the barplot above, the most passengers that were in first class were the people in their thirties, whereas the second and third class were the twenties. "
   ]
  },
  {
   "cell_type": "markdown",
   "id": "aa27a180",
   "metadata": {},
   "source": [
    "### SibSp"
   ]
  },
  {
   "cell_type": "markdown",
   "id": "f0540f07",
   "metadata": {},
   "source": [
    "#### Check passengers who brought their families"
   ]
  },
  {
   "cell_type": "code",
   "execution_count": 12,
   "id": "b413f5ea",
   "metadata": {},
   "outputs": [
    {
     "data": {
      "text/plain": [
       "<AxesSubplot:xlabel='SibSp', ylabel='count'>"
      ]
     },
     "execution_count": 12,
     "metadata": {},
     "output_type": "execute_result"
    },
    {
     "data": {
      "image/png": "[encoded data removed]",
      "text/plain": [
       "<Figure size 640x480 with 1 Axes>"
      ]
     },
     "metadata": {},
     "output_type": "display_data"
    }
   ],
   "source": [
    "sns.countplot(x='SibSp',data=data)"
   ]
  },
  {
   "cell_type": "markdown",
   "id": "2fb09a99",
   "metadata": {},
   "source": [
    "We can see there were huge numbers of passengers who did not bring their families."
   ]
  },
  {
   "cell_type": "markdown",
   "id": "f9b8548b",
   "metadata": {},
   "source": [
    "### Embarked"
   ]
  },
  {
   "cell_type": "markdown",
   "id": "839d276b",
   "metadata": {},
   "source": [
    "#### Check the most port that passengers got departed from"
   ]
  },
  {
   "cell_type": "code",
   "execution_count": 13,
   "id": "35f8463f",
   "metadata": {},
   "outputs": [
    {
     "data": {
      "text/plain": [
       "<AxesSubplot:xlabel='Embarked', ylabel='count'>"
      ]
     },
     "execution_count": 13,
     "metadata": {},
     "output_type": "execute_result"
    },
    {
     "data": {
      "image/png": "[encoded data removed]",
      "text/plain": [
       "<Figure size 640x480 with 1 Axes>"
      ]
     },
     "metadata": {},
     "output_type": "display_data"
    }
   ],
   "source": [
    "sns.countplot(x='Embarked',data=data)"
   ]
  },
  {
   "cell_type": "markdown",
   "id": "bcfa233f",
   "metadata": {},
   "source": [
    "based on graphic, we can said that most passengers departed from Southampton (S)."
   ]
  }
 ],
 "metadata": {
  "kernelspec": {
   "display_name": "Python 3 (ipykernel)",
   "language": "python",
   "name": "python3"
  },
  "language_info": {
   "codemirror_mode": {
    "name": "ipython",
    "version": 3
   },
   "file_extension": ".py",
   "mimetype": "text/x-python",
   "name": "python",
   "nbconvert_exporter": "python",
   "pygments_lexer": "ipython3",
   "version": "3.9.13"
  }
 },
 "nbformat": 4,
 "nbformat_minor": 5
}
