{
 "cells": [
  {
   "cell_type": "markdown",
   "id": "a8bfceea",
   "metadata": {},
   "source": [
    "# Working with titanic dataset"
   ]
  },
  {
   "cell_type": "markdown",
   "id": "3a7ee422",
   "metadata": {},
   "source": [
    "import all library that are going to be used"
   ]
  },
  {
   "cell_type": "code",
   "execution_count": 1,
   "id": "c4695e85",
   "metadata": {},
   "outputs": [],
   "source": [
    "import pandas as pd\n",
    "import numpy as np"
   ]
  },
  {
   "cell_type": "markdown",
   "id": "60e66801",
   "metadata": {},
   "source": [
    "import titanic dataset with tab saparator, and try to display sample data"
   ]
  },
  {
   "cell_type": "code",
   "execution_count": 2,
   "id": "0400779e",
   "metadata": {},
   "outputs": [
    {
     "data": {
      "text/html": [
       "<div>\n",
       "<style scoped>\n",
       "    .dataframe tbody tr th:only-of-type {\n",
       "        vertical-align: middle;\n",
       "    }\n",
       "\n",
       "    .dataframe tbody tr th {\n",
       "        vertical-align: top;\n",
       "    }\n",
       "\n",
       "    .dataframe thead th {\n",
       "        text-align: right;\n",
       "    }\n",
       "</style>\n",
       "<table border=\"1\" class=\"dataframe\">\n",
       "  <thead>\n",
       "    <tr style=\"text-align: right;\">\n",
       "      <th></th>\n",
       "      <th>PassengerId</th>\n",
       "      <th>Survived</th>\n",
       "      <th>Pclass</th>\n",
       "      <th>Name</th>\n",
       "      <th>Sex</th>\n",
       "      <th>Age</th>\n",
       "      <th>SibSp</th>\n",
       "      <th>Parch</th>\n",
       "      <th>Ticket</th>\n",
       "      <th>Fare</th>\n",
       "      <th>Cabin</th>\n",
       "      <th>Embarked</th>\n",
       "      <th>ship</th>\n",
       "    </tr>\n",
       "  </thead>\n",
       "  <tbody>\n",
       "    <tr>\n",
       "      <th>0</th>\n",
       "      <td>1</td>\n",
       "      <td>0</td>\n",
       "      <td>3.0</td>\n",
       "      <td>Braund, Mr. Owen Harris</td>\n",
       "      <td>male</td>\n",
       "      <td>22</td>\n",
       "      <td>1</td>\n",
       "      <td>0</td>\n",
       "      <td>A/5 21171</td>\n",
       "      <td>7,25</td>\n",
       "      <td>NaN</td>\n",
       "      <td>S</td>\n",
       "      <td>Titanic</td>\n",
       "    </tr>\n",
       "    <tr>\n",
       "      <th>1</th>\n",
       "      <td>2</td>\n",
       "      <td>1</td>\n",
       "      <td>1.0</td>\n",
       "      <td>Cumings, Mrs. John Bradley (Florence Briggs Th...</td>\n",
       "      <td>female</td>\n",
       "      <td>38</td>\n",
       "      <td>1</td>\n",
       "      <td>0</td>\n",
       "      <td>PC 17599</td>\n",
       "      <td>71,2833</td>\n",
       "      <td>C85</td>\n",
       "      <td>C</td>\n",
       "      <td>Titanic</td>\n",
       "    </tr>\n",
       "    <tr>\n",
       "      <th>2</th>\n",
       "      <td>3</td>\n",
       "      <td>1</td>\n",
       "      <td>3.0</td>\n",
       "      <td>Heikkinen, Miss. Laina</td>\n",
       "      <td>female</td>\n",
       "      <td>26</td>\n",
       "      <td>0</td>\n",
       "      <td>0</td>\n",
       "      <td>STON/O2. 3101282</td>\n",
       "      <td>7,925</td>\n",
       "      <td>NaN</td>\n",
       "      <td>S</td>\n",
       "      <td>Titanic</td>\n",
       "    </tr>\n",
       "    <tr>\n",
       "      <th>3</th>\n",
       "      <td>4</td>\n",
       "      <td>1</td>\n",
       "      <td>1.0</td>\n",
       "      <td>Futrelle, Mrs. Jacques Heath (Lily May Peel)</td>\n",
       "      <td>female</td>\n",
       "      <td>35</td>\n",
       "      <td>1</td>\n",
       "      <td>0</td>\n",
       "      <td>113803</td>\n",
       "      <td>53,1</td>\n",
       "      <td>C123</td>\n",
       "      <td>S</td>\n",
       "      <td>Titanic</td>\n",
       "    </tr>\n",
       "    <tr>\n",
       "      <th>4</th>\n",
       "      <td>5</td>\n",
       "      <td>0</td>\n",
       "      <td>3.0</td>\n",
       "      <td>Allen, Mr. William Henry</td>\n",
       "      <td>male</td>\n",
       "      <td>35</td>\n",
       "      <td>0</td>\n",
       "      <td>0</td>\n",
       "      <td>373450</td>\n",
       "      <td>8,05</td>\n",
       "      <td>NaN</td>\n",
       "      <td>S</td>\n",
       "      <td>Titanic</td>\n",
       "    </tr>\n",
       "  </tbody>\n",
       "</table>\n",
       "</div>"
      ],
      "text/plain": [
       "   PassengerId  Survived  Pclass  \\\n",
       "0            1         0     3.0   \n",
       "1            2         1     1.0   \n",
       "2            3         1     3.0   \n",
       "3            4         1     1.0   \n",
       "4            5         0     3.0   \n",
       "\n",
       "                                                Name     Sex Age  SibSp Parch  \\\n",
       "0                            Braund, Mr. Owen Harris    male  22      1     0   \n",
       "1  Cumings, Mrs. John Bradley (Florence Briggs Th...  female  38      1     0   \n",
       "2                             Heikkinen, Miss. Laina  female  26      0     0   \n",
       "3       Futrelle, Mrs. Jacques Heath (Lily May Peel)  female  35      1     0   \n",
       "4                           Allen, Mr. William Henry    male  35      0     0   \n",
       "\n",
       "             Ticket     Fare Cabin Embarked     ship  \n",
       "0         A/5 21171     7,25   NaN        S  Titanic  \n",
       "1          PC 17599  71,2833   C85        C  Titanic  \n",
       "2  STON/O2. 3101282    7,925   NaN        S  Titanic  \n",
       "3            113803     53,1  C123        S  Titanic  \n",
       "4            373450     8,05   NaN        S  Titanic  "
      ]
     },
     "execution_count": 2,
     "metadata": {},
     "output_type": "execute_result"
    }
   ],
   "source": [
    "data = pd.read_csv(\"titanic.tsv\", sep='\\t')\n",
    "data.head()"
   ]
  },
  {
   "cell_type": "markdown",
   "id": "19b669a1",
   "metadata": {},
   "source": [
    "check datatypes to check if the data is in correct types"
   ]
  },
  {
   "cell_type": "code",
   "execution_count": 3,
   "id": "3fc4c2f8",
   "metadata": {},
   "outputs": [
    {
     "data": {
      "text/plain": [
       "PassengerId      int64\n",
       "Survived         int64\n",
       "Pclass         float64\n",
       "Name            object\n",
       "Sex             object\n",
       "Age             object\n",
       "SibSp            int64\n",
       "Parch           object\n",
       "Ticket          object\n",
       "Fare            object\n",
       "Cabin           object\n",
       "Embarked        object\n",
       "ship            object\n",
       "dtype: object"
      ]
     },
     "execution_count": 3,
     "metadata": {},
     "output_type": "execute_result"
    }
   ],
   "source": [
    "data.dtypes"
   ]
  },
  {
   "cell_type": "markdown",
   "id": "30d7f7ef",
   "metadata": {},
   "source": [
    "from dtypes function we know that Pclass, Age, Parch and Fare column are in object type, so we should change it to numeric datatype"
   ]
  },
  {
   "cell_type": "code",
   "execution_count": 4,
   "id": "922b8aa3",
   "metadata": {},
   "outputs": [
    {
     "data": {
      "text/plain": [
       "PassengerId      int64\n",
       "Survived         int64\n",
       "Pclass         float64\n",
       "Name            object\n",
       "Sex             object\n",
       "Age            float64\n",
       "SibSp            int64\n",
       "Parch          float64\n",
       "Ticket          object\n",
       "Fare           float64\n",
       "Cabin           object\n",
       "Embarked        object\n",
       "ship            object\n",
       "dtype: object"
      ]
     },
     "execution_count": 4,
     "metadata": {},
     "output_type": "execute_result"
    }
   ],
   "source": [
    "data['Pclass'] = pd.to_numeric(data.Pclass, errors='coerce')\n",
    "data['Age'] = data['Age'].str.replace(',','.')\n",
    "data['Age'] = pd.to_numeric(data.Age, errors='coerce')\n",
    "\n",
    "data['Parch'] = pd.to_numeric(data.Parch, errors='coerce')\n",
    "\n",
    "data['Fare'] = data['Fare'].str.replace(',','.')\n",
    "data['Fare'] = pd.to_numeric(data.Fare, errors='coerce')\n",
    "\n",
    "data.dtypes"
   ]
  },
  {
   "cell_type": "markdown",
   "id": "6c4e6c4f",
   "metadata": {},
   "source": [
    "We will try to describe data to understand it"
   ]
  },
  {
   "cell_type": "code",
   "execution_count": 5,
   "id": "73c95f73",
   "metadata": {},
   "outputs": [
    {
     "data": {
      "text/html": [
       "<div>\n",
       "<style scoped>\n",
       "    .dataframe tbody tr th:only-of-type {\n",
       "        vertical-align: middle;\n",
       "    }\n",
       "\n",
       "    .dataframe tbody tr th {\n",
       "        vertical-align: top;\n",
       "    }\n",
       "\n",
       "    .dataframe thead th {\n",
       "        text-align: right;\n",
       "    }\n",
       "</style>\n",
       "<table border=\"1\" class=\"dataframe\">\n",
       "  <thead>\n",
       "    <tr style=\"text-align: right;\">\n",
       "      <th></th>\n",
       "      <th>PassengerId</th>\n",
       "      <th>Survived</th>\n",
       "      <th>Pclass</th>\n",
       "      <th>Age</th>\n",
       "      <th>SibSp</th>\n",
       "      <th>Parch</th>\n",
       "      <th>Fare</th>\n",
       "    </tr>\n",
       "  </thead>\n",
       "  <tbody>\n",
       "    <tr>\n",
       "      <th>count</th>\n",
       "      <td>894.000000</td>\n",
       "      <td>894.000000</td>\n",
       "      <td>894.000000</td>\n",
       "      <td>721.000000</td>\n",
       "      <td>894.000000</td>\n",
       "      <td>893.000000</td>\n",
       "      <td>892.000000</td>\n",
       "    </tr>\n",
       "    <tr>\n",
       "      <th>mean</th>\n",
       "      <td>446.030201</td>\n",
       "      <td>0.381432</td>\n",
       "      <td>2.305369</td>\n",
       "      <td>35.836019</td>\n",
       "      <td>0.604027</td>\n",
       "      <td>0.371781</td>\n",
       "      <td>32.075985</td>\n",
       "    </tr>\n",
       "    <tr>\n",
       "      <th>std</th>\n",
       "      <td>259.208003</td>\n",
       "      <td>0.508529</td>\n",
       "      <td>0.847653</td>\n",
       "      <td>164.927968</td>\n",
       "      <td>2.571231</td>\n",
       "      <td>0.768325</td>\n",
       "      <td>49.868844</td>\n",
       "    </tr>\n",
       "    <tr>\n",
       "      <th>min</th>\n",
       "      <td>-12.000000</td>\n",
       "      <td>-4.000000</td>\n",
       "      <td>-2.000000</td>\n",
       "      <td>-12.000000</td>\n",
       "      <td>0.000000</td>\n",
       "      <td>0.000000</td>\n",
       "      <td>-90.000000</td>\n",
       "    </tr>\n",
       "    <tr>\n",
       "      <th>25%</th>\n",
       "      <td>223.250000</td>\n",
       "      <td>0.000000</td>\n",
       "      <td>2.000000</td>\n",
       "      <td>20.000000</td>\n",
       "      <td>0.000000</td>\n",
       "      <td>0.000000</td>\n",
       "      <td>7.895800</td>\n",
       "    </tr>\n",
       "    <tr>\n",
       "      <th>50%</th>\n",
       "      <td>444.500000</td>\n",
       "      <td>0.000000</td>\n",
       "      <td>3.000000</td>\n",
       "      <td>28.000000</td>\n",
       "      <td>0.000000</td>\n",
       "      <td>0.000000</td>\n",
       "      <td>14.454200</td>\n",
       "    </tr>\n",
       "    <tr>\n",
       "      <th>75%</th>\n",
       "      <td>668.750000</td>\n",
       "      <td>1.000000</td>\n",
       "      <td>3.000000</td>\n",
       "      <td>38.000000</td>\n",
       "      <td>1.000000</td>\n",
       "      <td>0.000000</td>\n",
       "      <td>30.771850</td>\n",
       "    </tr>\n",
       "    <tr>\n",
       "      <th>max</th>\n",
       "      <td>1143.000000</td>\n",
       "      <td>1.000000</td>\n",
       "      <td>3.000000</td>\n",
       "      <td>4435.000000</td>\n",
       "      <td>70.000000</td>\n",
       "      <td>5.000000</td>\n",
       "      <td>512.329200</td>\n",
       "    </tr>\n",
       "  </tbody>\n",
       "</table>\n",
       "</div>"
      ],
      "text/plain": [
       "       PassengerId    Survived      Pclass          Age       SibSp  \\\n",
       "count   894.000000  894.000000  894.000000   721.000000  894.000000   \n",
       "mean    446.030201    0.381432    2.305369    35.836019    0.604027   \n",
       "std     259.208003    0.508529    0.847653   164.927968    2.571231   \n",
       "min     -12.000000   -4.000000   -2.000000   -12.000000    0.000000   \n",
       "25%     223.250000    0.000000    2.000000    20.000000    0.000000   \n",
       "50%     444.500000    0.000000    3.000000    28.000000    0.000000   \n",
       "75%     668.750000    1.000000    3.000000    38.000000    1.000000   \n",
       "max    1143.000000    1.000000    3.000000  4435.000000   70.000000   \n",
       "\n",
       "            Parch        Fare  \n",
       "count  893.000000  892.000000  \n",
       "mean     0.371781   32.075985  \n",
       "std      0.768325   49.868844  \n",
       "min      0.000000  -90.000000  \n",
       "25%      0.000000    7.895800  \n",
       "50%      0.000000   14.454200  \n",
       "75%      0.000000   30.771850  \n",
       "max      5.000000  512.329200  "
      ]
     },
     "execution_count": 5,
     "metadata": {},
     "output_type": "execute_result"
    }
   ],
   "source": [
    "data.describe()"
   ]
  },
  {
   "cell_type": "markdown",
   "id": "5de8eb76",
   "metadata": {},
   "source": [
    "Locate Missing Data using isnull function"
   ]
  },
  {
   "cell_type": "code",
   "execution_count": 6,
   "id": "21a7fc70",
   "metadata": {},
   "outputs": [
    {
     "data": {
      "text/html": [
       "<div>\n",
       "<style scoped>\n",
       "    .dataframe tbody tr th:only-of-type {\n",
       "        vertical-align: middle;\n",
       "    }\n",
       "\n",
       "    .dataframe tbody tr th {\n",
       "        vertical-align: top;\n",
       "    }\n",
       "\n",
       "    .dataframe thead th {\n",
       "        text-align: right;\n",
       "    }\n",
       "</style>\n",
       "<table border=\"1\" class=\"dataframe\">\n",
       "  <thead>\n",
       "    <tr style=\"text-align: right;\">\n",
       "      <th></th>\n",
       "      <th>PassengerId</th>\n",
       "      <th>Survived</th>\n",
       "      <th>Pclass</th>\n",
       "      <th>Name</th>\n",
       "      <th>Sex</th>\n",
       "      <th>Age</th>\n",
       "      <th>SibSp</th>\n",
       "      <th>Parch</th>\n",
       "      <th>Ticket</th>\n",
       "      <th>Fare</th>\n",
       "      <th>Cabin</th>\n",
       "      <th>Embarked</th>\n",
       "      <th>ship</th>\n",
       "    </tr>\n",
       "  </thead>\n",
       "  <tbody>\n",
       "    <tr>\n",
       "      <th>0</th>\n",
       "      <td>False</td>\n",
       "      <td>False</td>\n",
       "      <td>False</td>\n",
       "      <td>False</td>\n",
       "      <td>False</td>\n",
       "      <td>False</td>\n",
       "      <td>False</td>\n",
       "      <td>False</td>\n",
       "      <td>False</td>\n",
       "      <td>False</td>\n",
       "      <td>True</td>\n",
       "      <td>False</td>\n",
       "      <td>False</td>\n",
       "    </tr>\n",
       "    <tr>\n",
       "      <th>1</th>\n",
       "      <td>False</td>\n",
       "      <td>False</td>\n",
       "      <td>False</td>\n",
       "      <td>False</td>\n",
       "      <td>False</td>\n",
       "      <td>False</td>\n",
       "      <td>False</td>\n",
       "      <td>False</td>\n",
       "      <td>False</td>\n",
       "      <td>False</td>\n",
       "      <td>False</td>\n",
       "      <td>False</td>\n",
       "      <td>False</td>\n",
       "    </tr>\n",
       "    <tr>\n",
       "      <th>2</th>\n",
       "      <td>False</td>\n",
       "      <td>False</td>\n",
       "      <td>False</td>\n",
       "      <td>False</td>\n",
       "      <td>False</td>\n",
       "      <td>False</td>\n",
       "      <td>False</td>\n",
       "      <td>False</td>\n",
       "      <td>False</td>\n",
       "      <td>False</td>\n",
       "      <td>True</td>\n",
       "      <td>False</td>\n",
       "      <td>False</td>\n",
       "    </tr>\n",
       "    <tr>\n",
       "      <th>3</th>\n",
       "      <td>False</td>\n",
       "      <td>False</td>\n",
       "      <td>False</td>\n",
       "      <td>False</td>\n",
       "      <td>False</td>\n",
       "      <td>False</td>\n",
       "      <td>False</td>\n",
       "      <td>False</td>\n",
       "      <td>False</td>\n",
       "      <td>False</td>\n",
       "      <td>False</td>\n",
       "      <td>False</td>\n",
       "      <td>False</td>\n",
       "    </tr>\n",
       "    <tr>\n",
       "      <th>4</th>\n",
       "      <td>False</td>\n",
       "      <td>False</td>\n",
       "      <td>False</td>\n",
       "      <td>False</td>\n",
       "      <td>False</td>\n",
       "      <td>False</td>\n",
       "      <td>False</td>\n",
       "      <td>False</td>\n",
       "      <td>False</td>\n",
       "      <td>False</td>\n",
       "      <td>True</td>\n",
       "      <td>False</td>\n",
       "      <td>False</td>\n",
       "    </tr>\n",
       "    <tr>\n",
       "      <th>...</th>\n",
       "      <td>...</td>\n",
       "      <td>...</td>\n",
       "      <td>...</td>\n",
       "      <td>...</td>\n",
       "      <td>...</td>\n",
       "      <td>...</td>\n",
       "      <td>...</td>\n",
       "      <td>...</td>\n",
       "      <td>...</td>\n",
       "      <td>...</td>\n",
       "      <td>...</td>\n",
       "      <td>...</td>\n",
       "      <td>...</td>\n",
       "    </tr>\n",
       "    <tr>\n",
       "      <th>889</th>\n",
       "      <td>False</td>\n",
       "      <td>False</td>\n",
       "      <td>False</td>\n",
       "      <td>False</td>\n",
       "      <td>False</td>\n",
       "      <td>False</td>\n",
       "      <td>False</td>\n",
       "      <td>False</td>\n",
       "      <td>False</td>\n",
       "      <td>False</td>\n",
       "      <td>False</td>\n",
       "      <td>False</td>\n",
       "      <td>False</td>\n",
       "    </tr>\n",
       "    <tr>\n",
       "      <th>890</th>\n",
       "      <td>False</td>\n",
       "      <td>False</td>\n",
       "      <td>False</td>\n",
       "      <td>False</td>\n",
       "      <td>False</td>\n",
       "      <td>False</td>\n",
       "      <td>False</td>\n",
       "      <td>False</td>\n",
       "      <td>False</td>\n",
       "      <td>False</td>\n",
       "      <td>True</td>\n",
       "      <td>False</td>\n",
       "      <td>False</td>\n",
       "    </tr>\n",
       "    <tr>\n",
       "      <th>891</th>\n",
       "      <td>False</td>\n",
       "      <td>False</td>\n",
       "      <td>False</td>\n",
       "      <td>False</td>\n",
       "      <td>False</td>\n",
       "      <td>False</td>\n",
       "      <td>False</td>\n",
       "      <td>False</td>\n",
       "      <td>False</td>\n",
       "      <td>False</td>\n",
       "      <td>False</td>\n",
       "      <td>False</td>\n",
       "      <td>False</td>\n",
       "    </tr>\n",
       "    <tr>\n",
       "      <th>892</th>\n",
       "      <td>False</td>\n",
       "      <td>False</td>\n",
       "      <td>False</td>\n",
       "      <td>False</td>\n",
       "      <td>False</td>\n",
       "      <td>False</td>\n",
       "      <td>False</td>\n",
       "      <td>False</td>\n",
       "      <td>False</td>\n",
       "      <td>False</td>\n",
       "      <td>False</td>\n",
       "      <td>False</td>\n",
       "      <td>False</td>\n",
       "    </tr>\n",
       "    <tr>\n",
       "      <th>893</th>\n",
       "      <td>False</td>\n",
       "      <td>False</td>\n",
       "      <td>False</td>\n",
       "      <td>False</td>\n",
       "      <td>False</td>\n",
       "      <td>False</td>\n",
       "      <td>False</td>\n",
       "      <td>False</td>\n",
       "      <td>False</td>\n",
       "      <td>False</td>\n",
       "      <td>True</td>\n",
       "      <td>False</td>\n",
       "      <td>False</td>\n",
       "    </tr>\n",
       "  </tbody>\n",
       "</table>\n",
       "<p>894 rows × 13 columns</p>\n",
       "</div>"
      ],
      "text/plain": [
       "     PassengerId  Survived  Pclass   Name    Sex    Age  SibSp  Parch  Ticket  \\\n",
       "0          False     False   False  False  False  False  False  False   False   \n",
       "1          False     False   False  False  False  False  False  False   False   \n",
       "2          False     False   False  False  False  False  False  False   False   \n",
       "3          False     False   False  False  False  False  False  False   False   \n",
       "4          False     False   False  False  False  False  False  False   False   \n",
       "..           ...       ...     ...    ...    ...    ...    ...    ...     ...   \n",
       "889        False     False   False  False  False  False  False  False   False   \n",
       "890        False     False   False  False  False  False  False  False   False   \n",
       "891        False     False   False  False  False  False  False  False   False   \n",
       "892        False     False   False  False  False  False  False  False   False   \n",
       "893        False     False   False  False  False  False  False  False   False   \n",
       "\n",
       "      Fare  Cabin  Embarked   ship  \n",
       "0    False   True     False  False  \n",
       "1    False  False     False  False  \n",
       "2    False   True     False  False  \n",
       "3    False  False     False  False  \n",
       "4    False   True     False  False  \n",
       "..     ...    ...       ...    ...  \n",
       "889  False  False     False  False  \n",
       "890  False   True     False  False  \n",
       "891  False  False     False  False  \n",
       "892  False  False     False  False  \n",
       "893  False   True     False  False  \n",
       "\n",
       "[894 rows x 13 columns]"
      ]
     },
     "execution_count": 6,
     "metadata": {},
     "output_type": "execute_result"
    }
   ],
   "source": [
    "data.isnull()"
   ]
  },
  {
   "cell_type": "markdown",
   "id": "86f6002c",
   "metadata": {},
   "source": [
    "expand the missing data of each feature, from below result we know there are 6 attributes with missing value (Age, Parch, Ticket, Fare, Cabin, Embarked)"
   ]
  },
  {
   "cell_type": "code",
   "execution_count": 7,
   "id": "0f315f02",
   "metadata": {
    "scrolled": true
   },
   "outputs": [
    {
     "data": {
      "text/plain": [
       "PassengerId      0\n",
       "Survived         0\n",
       "Pclass           0\n",
       "Name             0\n",
       "Sex              0\n",
       "Age            173\n",
       "SibSp            0\n",
       "Parch            1\n",
       "Ticket           1\n",
       "Fare             2\n",
       "Cabin          686\n",
       "Embarked         2\n",
       "ship             0\n",
       "dtype: int64"
      ]
     },
     "execution_count": 7,
     "metadata": {},
     "output_type": "execute_result"
    }
   ],
   "source": [
    "data.isnull().sum()"
   ]
  },
  {
   "cell_type": "markdown",
   "id": "46e945c6",
   "metadata": {},
   "source": [
    "## Missing values"
   ]
  },
  {
   "cell_type": "markdown",
   "id": "7962c5c5",
   "metadata": {},
   "source": [
    "There are two basic options regarding missing data. 1) Drop the data or, 2) Input missing data."
   ]
  },
  {
   "cell_type": "markdown",
   "id": "1aa130fb",
   "metadata": {},
   "source": [
    "### Cabin"
   ]
  },
  {
   "cell_type": "markdown",
   "id": "27b7a4cd",
   "metadata": {},
   "source": [
    "Because we have 894 rows and there are 686 missing values in Cabin, so we can drop it."
   ]
  },
  {
   "cell_type": "code",
   "execution_count": 8,
   "id": "26615a53",
   "metadata": {},
   "outputs": [],
   "source": [
    "data.drop(\"Cabin\", inplace =True, axis =1)"
   ]
  },
  {
   "cell_type": "code",
   "execution_count": 9,
   "id": "bdac601e",
   "metadata": {},
   "outputs": [
    {
     "data": {
      "text/html": [
       "<div>\n",
       "<style scoped>\n",
       "    .dataframe tbody tr th:only-of-type {\n",
       "        vertical-align: middle;\n",
       "    }\n",
       "\n",
       "    .dataframe tbody tr th {\n",
       "        vertical-align: top;\n",
       "    }\n",
       "\n",
       "    .dataframe thead th {\n",
       "        text-align: right;\n",
       "    }\n",
       "</style>\n",
       "<table border=\"1\" class=\"dataframe\">\n",
       "  <thead>\n",
       "    <tr style=\"text-align: right;\">\n",
       "      <th></th>\n",
       "      <th>PassengerId</th>\n",
       "      <th>Survived</th>\n",
       "      <th>Pclass</th>\n",
       "      <th>Name</th>\n",
       "      <th>Sex</th>\n",
       "      <th>Age</th>\n",
       "      <th>SibSp</th>\n",
       "      <th>Parch</th>\n",
       "      <th>Ticket</th>\n",
       "      <th>Fare</th>\n",
       "      <th>Embarked</th>\n",
       "      <th>ship</th>\n",
       "    </tr>\n",
       "  </thead>\n",
       "  <tbody>\n",
       "    <tr>\n",
       "      <th>0</th>\n",
       "      <td>1</td>\n",
       "      <td>0</td>\n",
       "      <td>3.0</td>\n",
       "      <td>Braund, Mr. Owen Harris</td>\n",
       "      <td>male</td>\n",
       "      <td>22.0</td>\n",
       "      <td>1</td>\n",
       "      <td>0.0</td>\n",
       "      <td>A/5 21171</td>\n",
       "      <td>7.2500</td>\n",
       "      <td>S</td>\n",
       "      <td>Titanic</td>\n",
       "    </tr>\n",
       "    <tr>\n",
       "      <th>1</th>\n",
       "      <td>2</td>\n",
       "      <td>1</td>\n",
       "      <td>1.0</td>\n",
       "      <td>Cumings, Mrs. John Bradley (Florence Briggs Th...</td>\n",
       "      <td>female</td>\n",
       "      <td>38.0</td>\n",
       "      <td>1</td>\n",
       "      <td>0.0</td>\n",
       "      <td>PC 17599</td>\n",
       "      <td>71.2833</td>\n",
       "      <td>C</td>\n",
       "      <td>Titanic</td>\n",
       "    </tr>\n",
       "    <tr>\n",
       "      <th>2</th>\n",
       "      <td>3</td>\n",
       "      <td>1</td>\n",
       "      <td>3.0</td>\n",
       "      <td>Heikkinen, Miss. Laina</td>\n",
       "      <td>female</td>\n",
       "      <td>26.0</td>\n",
       "      <td>0</td>\n",
       "      <td>0.0</td>\n",
       "      <td>STON/O2. 3101282</td>\n",
       "      <td>7.9250</td>\n",
       "      <td>S</td>\n",
       "      <td>Titanic</td>\n",
       "    </tr>\n",
       "    <tr>\n",
       "      <th>3</th>\n",
       "      <td>4</td>\n",
       "      <td>1</td>\n",
       "      <td>1.0</td>\n",
       "      <td>Futrelle, Mrs. Jacques Heath (Lily May Peel)</td>\n",
       "      <td>female</td>\n",
       "      <td>35.0</td>\n",
       "      <td>1</td>\n",
       "      <td>0.0</td>\n",
       "      <td>113803</td>\n",
       "      <td>53.1000</td>\n",
       "      <td>S</td>\n",
       "      <td>Titanic</td>\n",
       "    </tr>\n",
       "    <tr>\n",
       "      <th>4</th>\n",
       "      <td>5</td>\n",
       "      <td>0</td>\n",
       "      <td>3.0</td>\n",
       "      <td>Allen, Mr. William Henry</td>\n",
       "      <td>male</td>\n",
       "      <td>35.0</td>\n",
       "      <td>0</td>\n",
       "      <td>0.0</td>\n",
       "      <td>373450</td>\n",
       "      <td>8.0500</td>\n",
       "      <td>S</td>\n",
       "      <td>Titanic</td>\n",
       "    </tr>\n",
       "  </tbody>\n",
       "</table>\n",
       "</div>"
      ],
      "text/plain": [
       "   PassengerId  Survived  Pclass  \\\n",
       "0            1         0     3.0   \n",
       "1            2         1     1.0   \n",
       "2            3         1     3.0   \n",
       "3            4         1     1.0   \n",
       "4            5         0     3.0   \n",
       "\n",
       "                                                Name     Sex   Age  SibSp  \\\n",
       "0                            Braund, Mr. Owen Harris    male  22.0      1   \n",
       "1  Cumings, Mrs. John Bradley (Florence Briggs Th...  female  38.0      1   \n",
       "2                             Heikkinen, Miss. Laina  female  26.0      0   \n",
       "3       Futrelle, Mrs. Jacques Heath (Lily May Peel)  female  35.0      1   \n",
       "4                           Allen, Mr. William Henry    male  35.0      0   \n",
       "\n",
       "   Parch            Ticket     Fare Embarked     ship  \n",
       "0    0.0         A/5 21171   7.2500        S  Titanic  \n",
       "1    0.0          PC 17599  71.2833        C  Titanic  \n",
       "2    0.0  STON/O2. 3101282   7.9250        S  Titanic  \n",
       "3    0.0            113803  53.1000        S  Titanic  \n",
       "4    0.0            373450   8.0500        S  Titanic  "
      ]
     },
     "execution_count": 9,
     "metadata": {},
     "output_type": "execute_result"
    }
   ],
   "source": [
    "data.head()"
   ]
  },
  {
   "cell_type": "markdown",
   "id": "0f22976c",
   "metadata": {},
   "source": [
    "### Check for symmetric data"
   ]
  },
  {
   "cell_type": "code",
   "execution_count": 10,
   "id": "c93432fa",
   "metadata": {},
   "outputs": [
    {
     "name": "stderr",
     "output_type": "stream",
     "text": [
      "C:\\Users\\AndikaBram\\AppData\\Local\\Temp\\ipykernel_5600\\3606978425.py:1: FutureWarning: Dropping of nuisance columns in DataFrame reductions (with 'numeric_only=None') is deprecated; in a future version this will raise TypeError.  Select only valid columns before calling the reduction.\n",
      "  data.skew(axis=0)\n"
     ]
    },
    {
     "data": {
      "text/plain": [
       "PassengerId     0.023433\n",
       "Survived       -0.280494\n",
       "Pclass         -0.737586\n",
       "Age            26.432551\n",
       "SibSp          22.338024\n",
       "Parch           2.523859\n",
       "Fare            4.724161\n",
       "dtype: float64"
      ]
     },
     "execution_count": 10,
     "metadata": {},
     "output_type": "execute_result"
    }
   ],
   "source": [
    "data.skew(axis=0)"
   ]
  },
  {
   "cell_type": "markdown",
   "id": "4468ea9d",
   "metadata": {},
   "source": [
    "### Age"
   ]
  },
  {
   "cell_type": "markdown",
   "id": "d485c29b",
   "metadata": {},
   "source": [
    "We can input missing age data with the median value of the age"
   ]
  },
  {
   "cell_type": "code",
   "execution_count": 11,
   "id": "aa85abcb",
   "metadata": {},
   "outputs": [],
   "source": [
    "data['Age'].fillna(np.nanmedian(data['Age']), inplace = True)"
   ]
  },
  {
   "cell_type": "markdown",
   "id": "ade0c740",
   "metadata": {},
   "source": [
    "### Parch"
   ]
  },
  {
   "cell_type": "markdown",
   "id": "d37912b2",
   "metadata": {},
   "source": [
    "We can input missing parch data with the mean value of the parch because the parch data is symmetrical"
   ]
  },
  {
   "cell_type": "code",
   "execution_count": 12,
   "id": "41dd263c",
   "metadata": {},
   "outputs": [],
   "source": [
    "data['Parch'] = data['Parch'].fillna(np.mean(data['Parch']))"
   ]
  },
  {
   "cell_type": "markdown",
   "id": "307b2aa2",
   "metadata": {},
   "source": [
    "### Ticket"
   ]
  },
  {
   "cell_type": "markdown",
   "id": "9a39a91d",
   "metadata": {},
   "source": [
    "We can input missing ticket data with the mode value of the ticket"
   ]
  },
  {
   "cell_type": "code",
   "execution_count": 13,
   "id": "84cae23f",
   "metadata": {},
   "outputs": [],
   "source": [
    "data['Ticket'].fillna(data['Ticket'].mode()[0], inplace=True)"
   ]
  },
  {
   "cell_type": "markdown",
   "id": "f302ebf6",
   "metadata": {},
   "source": [
    "### Fare"
   ]
  },
  {
   "cell_type": "markdown",
   "id": "f5bbc627",
   "metadata": {},
   "source": [
    "We can input missing fare data with the mean value of the fare because the fare data is symmetrical"
   ]
  },
  {
   "cell_type": "code",
   "execution_count": 14,
   "id": "8fb7f861",
   "metadata": {},
   "outputs": [],
   "source": [
    "data['Fare'] = data['Fare'].fillna(np.mean(data['Fare']))"
   ]
  },
  {
   "cell_type": "markdown",
   "id": "9fe046b6",
   "metadata": {},
   "source": [
    "### Embarked"
   ]
  },
  {
   "cell_type": "markdown",
   "id": "5b705fb8",
   "metadata": {},
   "source": [
    "We can input missing embarked data with the mode value of the embarked"
   ]
  },
  {
   "cell_type": "code",
   "execution_count": 15,
   "id": "b46309ca",
   "metadata": {},
   "outputs": [],
   "source": [
    "data['Embarked'].fillna(data['Embarked'].mode()[0], inplace=True)"
   ]
  },
  {
   "cell_type": "markdown",
   "id": "2db45568",
   "metadata": {},
   "source": [
    "Check missing value"
   ]
  },
  {
   "cell_type": "code",
   "execution_count": 16,
   "id": "62b081e3",
   "metadata": {},
   "outputs": [
    {
     "data": {
      "text/plain": [
       "PassengerId    0\n",
       "Survived       0\n",
       "Pclass         0\n",
       "Name           0\n",
       "Sex            0\n",
       "Age            0\n",
       "SibSp          0\n",
       "Parch          0\n",
       "Ticket         0\n",
       "Fare           0\n",
       "Embarked       0\n",
       "ship           0\n",
       "dtype: int64"
      ]
     },
     "execution_count": 16,
     "metadata": {},
     "output_type": "execute_result"
    }
   ],
   "source": [
    "data.isnull().sum()"
   ]
  },
  {
   "cell_type": "markdown",
   "id": "64976160",
   "metadata": {},
   "source": [
    "## Checking outliers"
   ]
  },
  {
   "cell_type": "markdown",
   "id": "53f744bd",
   "metadata": {},
   "source": [
    "### Survived"
   ]
  },
  {
   "cell_type": "code",
   "execution_count": 17,
   "id": "cb6bd0e3",
   "metadata": {},
   "outputs": [
    {
     "data": {
      "text/plain": [
       " 0    548\n",
       " 1    345\n",
       "-4      1\n",
       "Name: Survived, dtype: int64"
      ]
     },
     "execution_count": 17,
     "metadata": {},
     "output_type": "execute_result"
    }
   ],
   "source": [
    "data['Survived'].value_counts()"
   ]
  },
  {
   "cell_type": "markdown",
   "id": "56906f93",
   "metadata": {},
   "source": [
    "We can see that there are survived with value -4. Hence, because it's survived so the value should be 0 or 1, so we change it with mode of survived."
   ]
  },
  {
   "cell_type": "code",
   "execution_count": 18,
   "id": "cde25d3d",
   "metadata": {},
   "outputs": [],
   "source": [
    "data['Survived'] = data['Survived'].replace([-4], data['Survived'].mode()[0])"
   ]
  },
  {
   "cell_type": "markdown",
   "id": "90756473",
   "metadata": {},
   "source": [
    "### Pclass"
   ]
  },
  {
   "cell_type": "code",
   "execution_count": 19,
   "id": "3efdfe38",
   "metadata": {},
   "outputs": [
    {
     "data": {
      "text/plain": [
       " 3.0    493\n",
       " 1.0    216\n",
       " 2.0    184\n",
       "-2.0      1\n",
       "Name: Pclass, dtype: int64"
      ]
     },
     "execution_count": 19,
     "metadata": {},
     "output_type": "execute_result"
    }
   ],
   "source": [
    "data['Pclass'].value_counts()"
   ]
  },
  {
   "cell_type": "markdown",
   "id": "f964431d",
   "metadata": {},
   "source": [
    "We can see that there are one Pclass data with value -2. So it should be the outlier, because there should be 3 Pclass (1, 2, 3) in titatic ship. We can change the value from -2 to 2, because it can be a typo while data was collected."
   ]
  },
  {
   "cell_type": "code",
   "execution_count": 20,
   "id": "ddeeb0d0",
   "metadata": {},
   "outputs": [],
   "source": [
    "data['Pclass'] = data['Pclass'].replace([-2], 2)"
   ]
  },
  {
   "cell_type": "markdown",
   "id": "42d08c33",
   "metadata": {},
   "source": [
    "### Sex"
   ]
  },
  {
   "cell_type": "code",
   "execution_count": 21,
   "id": "a7f67b5c",
   "metadata": {},
   "outputs": [
    {
     "data": {
      "text/plain": [
       "male       575\n",
       "female     310\n",
       "fem          2\n",
       "malef        1\n",
       "mal          1\n",
       "femmale      1\n",
       "feemale      1\n",
       "Female       1\n",
       "malee        1\n",
       "F            1\n",
       "Name: Sex, dtype: int64"
      ]
     },
     "execution_count": 21,
     "metadata": {},
     "output_type": "execute_result"
    }
   ],
   "source": [
    "data['Sex'].value_counts()"
   ]
  },
  {
   "cell_type": "markdown",
   "id": "ca18730b",
   "metadata": {},
   "source": [
    "We can see that thare are some different entry for sex, so we will change it to only male and female. female(female, fem, femmale, feemale, Female, F) male(male, malef, mal, malee)"
   ]
  },
  {
   "cell_type": "code",
   "execution_count": 22,
   "id": "f55ab4c0",
   "metadata": {},
   "outputs": [],
   "source": [
    "data['Sex'] = data['Sex'].replace(\"malef\", \"male\")\n",
    "data['Sex'] = data['Sex'].replace(\"mal\", \"male\")\n",
    "data['Sex'] = data['Sex'].replace(\"malee\", \"male\")\n",
    "\n",
    "data['Sex'] = data['Sex'].replace(\"fem\", \"female\")\n",
    "data['Sex'] = data['Sex'].replace(\"femmale\", \"female\")\n",
    "data['Sex'] = data['Sex'].replace(\"feemale\", \"female\")\n",
    "data['Sex'] = data['Sex'].replace(\"Female\", \"female\")\n",
    "data['Sex'] = data['Sex'].replace(\"F\", \"female\")"
   ]
  },
  {
   "cell_type": "markdown",
   "id": "e2e538de",
   "metadata": {},
   "source": [
    "### Age"
   ]
  },
  {
   "cell_type": "code",
   "execution_count": 23,
   "id": "cc1f5fe4",
   "metadata": {},
   "outputs": [
    {
     "data": {
      "text/plain": [
       "count     894.000000\n",
       "mean       34.319653\n",
       "std       148.125488\n",
       "min       -12.000000\n",
       "25%        22.000000\n",
       "50%        28.000000\n",
       "75%        35.000000\n",
       "max      4435.000000\n",
       "Name: Age, dtype: float64"
      ]
     },
     "execution_count": 23,
     "metadata": {},
     "output_type": "execute_result"
    }
   ],
   "source": [
    "data[\"Age\"].describe()"
   ]
  },
  {
   "cell_type": "markdown",
   "id": "d8a349c5",
   "metadata": {},
   "source": [
    "We can see that for age the maximum value is 4435, minimum value is -12, and there is bigger value of std so there are outlier in Age."
   ]
  },
  {
   "cell_type": "code",
   "execution_count": 24,
   "id": "ce02e7a5",
   "metadata": {},
   "outputs": [
    {
     "data": {
      "text/plain": [
       "28.0    197\n",
       "24.0     30\n",
       "22.0     27\n",
       "18.0     26\n",
       "19.0     25\n",
       "       ... \n",
       "12.0      1\n",
       "70.5      1\n",
       "66.0      1\n",
       "0.9       1\n",
       "0.7       1\n",
       "Name: Age, Length: 94, dtype: int64"
      ]
     },
     "execution_count": 24,
     "metadata": {},
     "output_type": "execute_result"
    }
   ],
   "source": [
    "data['Age'].value_counts()"
   ]
  },
  {
   "cell_type": "markdown",
   "id": "0e6645d6",
   "metadata": {},
   "source": [
    "We can change the outlier value with median value of Age. We devine the age range is from 1 - 150."
   ]
  },
  {
   "cell_type": "code",
   "execution_count": 25,
   "id": "4845f9e0",
   "metadata": {},
   "outputs": [],
   "source": [
    "data.loc[data['Age'] > 150, 'Age'] = np.nanmedian(data['Age'])\n",
    "data.loc[data['Age'] < 1, 'Age'] = np.nanmedian(data['Age'])"
   ]
  },
  {
   "cell_type": "code",
   "execution_count": 26,
   "id": "009ab0a3",
   "metadata": {},
   "outputs": [
    {
     "name": "stdout",
     "output_type": "stream",
     "text": [
      "    PassengerId  Survived  Pclass  \\\n",
      "31           32         1     1.0   \n",
      "\n",
      "                                              Name     Sex   Age  SibSp  \\\n",
      "31  Spencer, Mrs. William Augustus (Marie Eugenie)  female  28.0      1   \n",
      "\n",
      "    Parch    Ticket      Fare Embarked     ship  \n",
      "31    0.0  PC 17569  146.5208        C  Titanic  \n"
     ]
    }
   ],
   "source": [
    "print(data.loc[[31]])"
   ]
  },
  {
   "cell_type": "code",
   "execution_count": 27,
   "id": "86aaf737",
   "metadata": {},
   "outputs": [
    {
     "data": {
      "text/plain": [
       "28.0    210\n",
       "24.0     30\n",
       "22.0     27\n",
       "18.0     26\n",
       "19.0     25\n",
       "       ... \n",
       "12.0      1\n",
       "36.5      1\n",
       "55.5      1\n",
       "23.5      1\n",
       "74.0      1\n",
       "Name: Age, Length: 83, dtype: int64"
      ]
     },
     "execution_count": 27,
     "metadata": {},
     "output_type": "execute_result"
    }
   ],
   "source": [
    "data['Age'].value_counts()"
   ]
  },
  {
   "cell_type": "markdown",
   "id": "48adb53a",
   "metadata": {},
   "source": [
    "### SibSp"
   ]
  },
  {
   "cell_type": "code",
   "execution_count": 28,
   "id": "b117c86a",
   "metadata": {},
   "outputs": [
    {
     "data": {
      "text/plain": [
       "0     606\n",
       "1     213\n",
       "2      28\n",
       "4      18\n",
       "3      16\n",
       "8       7\n",
       "5       5\n",
       "70      1\n",
       "Name: SibSp, dtype: int64"
      ]
     },
     "execution_count": 28,
     "metadata": {},
     "output_type": "execute_result"
    }
   ],
   "source": [
    "data['SibSp'].value_counts()"
   ]
  },
  {
   "cell_type": "markdown",
   "id": "e73695de",
   "metadata": {},
   "source": [
    "SibSp is the number of siblings or spouse of a person onboard. So 70 and 8 is outlier, we will change it with mode of SibSp"
   ]
  },
  {
   "cell_type": "code",
   "execution_count": 29,
   "id": "3538edc3",
   "metadata": {},
   "outputs": [],
   "source": [
    "data['SibSp'] = data['SibSp'].replace([70], data['SibSp'].mode()[0])\n",
    "data['SibSp'] = data['SibSp'].replace([8], data['SibSp'].mode()[0])"
   ]
  },
  {
   "cell_type": "code",
   "execution_count": 30,
   "id": "121ec973",
   "metadata": {},
   "outputs": [
    {
     "data": {
      "text/plain": [
       "0    614\n",
       "1    213\n",
       "2     28\n",
       "4     18\n",
       "3     16\n",
       "5      5\n",
       "Name: SibSp, dtype: int64"
      ]
     },
     "execution_count": 30,
     "metadata": {},
     "output_type": "execute_result"
    }
   ],
   "source": [
    "data['SibSp'].value_counts()"
   ]
  },
  {
   "cell_type": "markdown",
   "id": "e839d6e2",
   "metadata": {},
   "source": [
    "### Parch"
   ]
  },
  {
   "cell_type": "code",
   "execution_count": 31,
   "id": "39ffd638",
   "metadata": {},
   "outputs": [
    {
     "data": {
      "text/plain": [
       "0.000000    679\n",
       "1.000000    121\n",
       "2.000000     80\n",
       "3.000000      5\n",
       "5.000000      4\n",
       "4.000000      4\n",
       "0.371781      1\n",
       "Name: Parch, dtype: int64"
      ]
     },
     "execution_count": 31,
     "metadata": {},
     "output_type": "execute_result"
    }
   ],
   "source": [
    "data['Parch'].value_counts()"
   ]
  },
  {
   "cell_type": "markdown",
   "id": "6e1cbedf",
   "metadata": {},
   "source": [
    "Parch is the number of parents / children aboard the Titanic. So 28 is outlier, we will change it with mode of Parch"
   ]
  },
  {
   "cell_type": "code",
   "execution_count": 32,
   "id": "993effe6",
   "metadata": {},
   "outputs": [],
   "source": [
    "data['Parch'] = data['Parch'].replace([28.0], data['Parch'].mode()[0])"
   ]
  },
  {
   "cell_type": "markdown",
   "id": "0347f142",
   "metadata": {},
   "source": [
    "### Fare"
   ]
  },
  {
   "cell_type": "code",
   "execution_count": 33,
   "id": "e08ecc7d",
   "metadata": {},
   "outputs": [
    {
     "data": {
      "text/plain": [
       "count    894.000000\n",
       "mean      32.075985\n",
       "std       49.812969\n",
       "min      -90.000000\n",
       "25%        7.903100\n",
       "50%       14.454200\n",
       "75%       31.000000\n",
       "max      512.329200\n",
       "Name: Fare, dtype: float64"
      ]
     },
     "execution_count": 33,
     "metadata": {},
     "output_type": "execute_result"
    }
   ],
   "source": [
    "data['Fare'].describe()"
   ]
  },
  {
   "cell_type": "markdown",
   "id": "d5c49f82",
   "metadata": {},
   "source": [
    "We will change fare outlier(value with number below 0) with mean value of fare."
   ]
  },
  {
   "cell_type": "code",
   "execution_count": 34,
   "id": "c72b1671",
   "metadata": {},
   "outputs": [],
   "source": [
    "data.loc[data['Fare'] < 1, 'Fare'] = np.mean(data['Fare'])"
   ]
  },
  {
   "cell_type": "markdown",
   "id": "2c54fda5",
   "metadata": {},
   "source": [
    "### Embarked"
   ]
  },
  {
   "cell_type": "code",
   "execution_count": 35,
   "id": "16e77ed6",
   "metadata": {},
   "outputs": [
    {
     "data": {
      "text/plain": [
       "S     647\n",
       "C     167\n",
       "Q      76\n",
       "So      2\n",
       "Co      1\n",
       "Qe      1\n",
       "Name: Embarked, dtype: int64"
      ]
     },
     "execution_count": 35,
     "metadata": {},
     "output_type": "execute_result"
    }
   ],
   "source": [
    "data['Embarked'].value_counts()"
   ]
  },
  {
   "cell_type": "markdown",
   "id": "aeeaf54c",
   "metadata": {},
   "source": [
    "We can see that thare are some different entry for Embarked, so we will change it"
   ]
  },
  {
   "cell_type": "code",
   "execution_count": 36,
   "id": "5e0a10b7",
   "metadata": {},
   "outputs": [],
   "source": [
    "data['Embarked'] = data['Embarked'].replace(\"So\", \"S\")\n",
    "data['Embarked'] = data['Embarked'].replace(\"Co\", \"C\")\n",
    "data['Embarked'] = data['Embarked'].replace(\"Qe\", \"Q\")"
   ]
  },
  {
   "cell_type": "markdown",
   "id": "7ee87145",
   "metadata": {},
   "source": [
    "## Result"
   ]
  },
  {
   "cell_type": "code",
   "execution_count": 37,
   "id": "7299af93",
   "metadata": {},
   "outputs": [
    {
     "data": {
      "text/html": [
       "<div>\n",
       "<style scoped>\n",
       "    .dataframe tbody tr th:only-of-type {\n",
       "        vertical-align: middle;\n",
       "    }\n",
       "\n",
       "    .dataframe tbody tr th {\n",
       "        vertical-align: top;\n",
       "    }\n",
       "\n",
       "    .dataframe thead th {\n",
       "        text-align: right;\n",
       "    }\n",
       "</style>\n",
       "<table border=\"1\" class=\"dataframe\">\n",
       "  <thead>\n",
       "    <tr style=\"text-align: right;\">\n",
       "      <th></th>\n",
       "      <th>PassengerId</th>\n",
       "      <th>Survived</th>\n",
       "      <th>Pclass</th>\n",
       "      <th>Age</th>\n",
       "      <th>SibSp</th>\n",
       "      <th>Parch</th>\n",
       "      <th>Fare</th>\n",
       "    </tr>\n",
       "  </thead>\n",
       "  <tbody>\n",
       "    <tr>\n",
       "      <th>count</th>\n",
       "      <td>894.000000</td>\n",
       "      <td>894.000000</td>\n",
       "      <td>894.000000</td>\n",
       "      <td>894.000000</td>\n",
       "      <td>894.000000</td>\n",
       "      <td>894.000000</td>\n",
       "      <td>894.000000</td>\n",
       "    </tr>\n",
       "    <tr>\n",
       "      <th>mean</th>\n",
       "      <td>446.030201</td>\n",
       "      <td>0.385906</td>\n",
       "      <td>2.309843</td>\n",
       "      <td>29.495526</td>\n",
       "      <td>0.463087</td>\n",
       "      <td>0.371781</td>\n",
       "      <td>32.750723</td>\n",
       "    </tr>\n",
       "    <tr>\n",
       "      <th>std</th>\n",
       "      <td>259.208003</td>\n",
       "      <td>0.487081</td>\n",
       "      <td>0.835370</td>\n",
       "      <td>12.829530</td>\n",
       "      <td>0.879200</td>\n",
       "      <td>0.767895</td>\n",
       "      <td>49.466207</td>\n",
       "    </tr>\n",
       "    <tr>\n",
       "      <th>min</th>\n",
       "      <td>-12.000000</td>\n",
       "      <td>0.000000</td>\n",
       "      <td>1.000000</td>\n",
       "      <td>1.000000</td>\n",
       "      <td>0.000000</td>\n",
       "      <td>0.000000</td>\n",
       "      <td>4.012500</td>\n",
       "    </tr>\n",
       "    <tr>\n",
       "      <th>25%</th>\n",
       "      <td>223.250000</td>\n",
       "      <td>0.000000</td>\n",
       "      <td>2.000000</td>\n",
       "      <td>22.000000</td>\n",
       "      <td>0.000000</td>\n",
       "      <td>0.000000</td>\n",
       "      <td>7.925000</td>\n",
       "    </tr>\n",
       "    <tr>\n",
       "      <th>50%</th>\n",
       "      <td>444.500000</td>\n",
       "      <td>0.000000</td>\n",
       "      <td>3.000000</td>\n",
       "      <td>28.000000</td>\n",
       "      <td>0.000000</td>\n",
       "      <td>0.000000</td>\n",
       "      <td>15.245800</td>\n",
       "    </tr>\n",
       "    <tr>\n",
       "      <th>75%</th>\n",
       "      <td>668.750000</td>\n",
       "      <td>1.000000</td>\n",
       "      <td>3.000000</td>\n",
       "      <td>35.000000</td>\n",
       "      <td>1.000000</td>\n",
       "      <td>0.000000</td>\n",
       "      <td>32.075985</td>\n",
       "    </tr>\n",
       "    <tr>\n",
       "      <th>max</th>\n",
       "      <td>1143.000000</td>\n",
       "      <td>1.000000</td>\n",
       "      <td>3.000000</td>\n",
       "      <td>80.000000</td>\n",
       "      <td>5.000000</td>\n",
       "      <td>5.000000</td>\n",
       "      <td>512.329200</td>\n",
       "    </tr>\n",
       "  </tbody>\n",
       "</table>\n",
       "</div>"
      ],
      "text/plain": [
       "       PassengerId    Survived      Pclass         Age       SibSp  \\\n",
       "count   894.000000  894.000000  894.000000  894.000000  894.000000   \n",
       "mean    446.030201    0.385906    2.309843   29.495526    0.463087   \n",
       "std     259.208003    0.487081    0.835370   12.829530    0.879200   \n",
       "min     -12.000000    0.000000    1.000000    1.000000    0.000000   \n",
       "25%     223.250000    0.000000    2.000000   22.000000    0.000000   \n",
       "50%     444.500000    0.000000    3.000000   28.000000    0.000000   \n",
       "75%     668.750000    1.000000    3.000000   35.000000    1.000000   \n",
       "max    1143.000000    1.000000    3.000000   80.000000    5.000000   \n",
       "\n",
       "            Parch        Fare  \n",
       "count  894.000000  894.000000  \n",
       "mean     0.371781   32.750723  \n",
       "std      0.767895   49.466207  \n",
       "min      0.000000    4.012500  \n",
       "25%      0.000000    7.925000  \n",
       "50%      0.000000   15.245800  \n",
       "75%      0.000000   32.075985  \n",
       "max      5.000000  512.329200  "
      ]
     },
     "execution_count": 37,
     "metadata": {},
     "output_type": "execute_result"
    }
   ],
   "source": [
    "data.describe()"
   ]
  },
  {
   "cell_type": "markdown",
   "id": "4e17851e",
   "metadata": {},
   "source": [
    "### Saving new data"
   ]
  },
  {
   "cell_type": "code",
   "execution_count": 38,
   "id": "738d5b58",
   "metadata": {},
   "outputs": [],
   "source": [
    "data.to_csv('titanic_clean.csv')"
   ]
  }
 ],
 "metadata": {
  "kernelspec": {
   "display_name": "Python 3 (ipykernel)",
   "language": "python",
   "name": "python3"
  },
  "language_info": {
   "codemirror_mode": {
    "name": "ipython",
    "version": 3
   },
   "file_extension": ".py",
   "mimetype": "text/x-python",
   "name": "python",
   "nbconvert_exporter": "python",
   "pygments_lexer": "ipython3",
   "version": "3.9.13"
  }
 },
 "nbformat": 4,
 "nbformat_minor": 5
}
